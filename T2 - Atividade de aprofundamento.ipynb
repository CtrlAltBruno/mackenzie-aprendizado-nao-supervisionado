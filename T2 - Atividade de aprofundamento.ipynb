{
 "cells": [
  {
   "cell_type": "markdown",
   "id": "c78f265c",
   "metadata": {},
   "source": [
    "<head>\n",
    "  <meta name=\"author\" content=\"Rogério de Oliveira\">\n",
    "  <meta institution=\"author\" content=\"Universidade Presbiteriana Mackenzie\">\n",
    "</head>\n",
    "\n",
    "<img src=\"http://meusite.mackenzie.br/rogerio/mackenzie_logo/UPM.2_horizontal_vermelho.jpg\" width=300, align=\"right\">\n",
    "\n",
    "<h1 align=left><font size = 8\"><b>Inteligência Artificial</b></font></h1>\n",
    "<h1 align=left><font size = 6\"><b>Aprendizado Não Supervisionado e Detecção de Anomalia</b></font></h2>\n",
    "\n",
    "# Atividade: T2 - Atividade de aprofundamento\n",
    "\n",
    "Nome: Bruno Rebocho de Toledo\n",
    "\n",
    "Turma: 01B\n",
    "\n",
    "Matrícula: 92316328"
   ]
  },
  {
   "cell_type": "markdown",
   "id": "93709add9953fb64",
   "metadata": {
    "collapsed": false
   },
   "source": [
    "### Ler o arquivo"
   ]
  },
  {
   "cell_type": "code",
   "execution_count": 154,
   "id": "97e2b7af8ea91230",
   "metadata": {
    "collapsed": false,
    "ExecuteTime": {
     "end_time": "2023-12-01T18:55:57.465168Z",
     "start_time": "2023-12-01T18:55:57.452790Z"
    }
   },
   "outputs": [],
   "source": [
    "#!pip install pandas-ods-reader"
   ]
  },
  {
   "cell_type": "code",
   "execution_count": 155,
   "id": "initial_id",
   "metadata": {
    "ExecuteTime": {
     "end_time": "2023-12-01T18:55:57.614139Z",
     "start_time": "2023-12-01T18:55:57.459419Z"
    }
   },
   "outputs": [
    {
     "data": {
      "text/plain": "        GRANDE_REG  COD_UF SIGLA_UF     COD  \\\n0     Centro-Oeste    53.0       DF  5301.0   \n1     Centro-Oeste    52.0       GO  5202.0   \n2     Centro-Oeste    52.0       GO  5202.0   \n3     Centro-Oeste    52.0       GO  5202.0   \n4     Centro-Oeste    52.0       GO  5202.0   \n...            ...     ...      ...     ...   \n1415           Sul    42.0       SC  4202.0   \n1416           Sul    42.0       SC  4202.0   \n1417           Sul    42.0       SC  4202.0   \n1418           Sul    42.0       SC  4202.0   \n1419           Sul    42.0       SC  4202.0   \n\n                                                   NOME  TIPO COD_CAT_ASSOC  \\\n0     Região Integrada de Desenvolvimento do Distrit...  RIDE      530101.0   \n1     Região Integrada de Desenvolvimento do Distrit...  RIDE      520201.0   \n2     Região Integrada de Desenvolvimento do Distrit...  RIDE      520201.0   \n3     Região Integrada de Desenvolvimento do Distrit...  RIDE      520201.0   \n4     Região Integrada de Desenvolvimento do Distrit...  RIDE      520201.0   \n...                                                 ...   ...           ...   \n1415             Região Metropolitana do Vale do Itajaí    RM      420201.0   \n1416             Região Metropolitana do Vale do Itajaí    RM      420201.0   \n1417             Região Metropolitana do Vale do Itajaí    RM      420201.0   \n1418             Região Metropolitana do Vale do Itajaí    RM      420201.0   \n1419             Região Metropolitana do Vale do Itajaí    RM      420201.0   \n\n                 CAT_ASSOC    COD_MUN               NOME_MUN  \\\n0                  NÃO TEM  5300108.0               BRASÍLIA   \n1                  NÃO TEM  5200100.0              ABADIÂNIA   \n2                  NÃO TEM  5200175.0     ÁGUA FRIA DE GOIÁS   \n3                  NÃO TEM  5200258.0  ÁGUAS LINDAS DE GOIÁS   \n4                  NÃO TEM  5200308.0               ALEXÂNIA   \n...                    ...        ...                    ...   \n1415  Núcleo Metropolitano  4202404.0               BLUMENAU   \n1416  Núcleo Metropolitano  4205902.0                 GASPAR   \n1417  Núcleo Metropolitano  4207502.0                INDAIAL   \n1418  Núcleo Metropolitano  4213203.0               POMERODE   \n1419  Núcleo Metropolitano  4218202.0                  TIMBÓ   \n\n                                                    LEG                 DATA  \n0     DECRETO Nº 7469 - 04.05.2011 Regulamenta a Lei...  1998-02-19T00:00:00  \n1     DECRETO Nº 7469 - 04.05.2011 Regulamenta a Lei...  1998-02-19T00:00:00  \n2     DECRETO Nº 7469 - 04.05.2011 Regulamenta a Lei...  1998-02-19T00:00:00  \n3     DECRETO Nº 7469 - 04.05.2011 Regulamenta a Lei...  1998-02-19T00:00:00  \n4     DECRETO Nº 7469 - 04.05.2011 Regulamenta a Lei...  1998-02-19T00:00:00  \n...                                                 ...                  ...  \n1415                               Lei Complementar 162  1998-01-06T00:00:00  \n1416                               Lei Complementar 162  1998-01-06T00:00:00  \n1417                               Lei Complementar 162  1998-01-06T00:00:00  \n1418                               Lei Complementar 162  1998-01-06T00:00:00  \n1419                               Lei Complementar 162  1998-01-06T00:00:00  \n\n[1420 rows x 12 columns]",
      "text/html": "<div>\n<style scoped>\n    .dataframe tbody tr th:only-of-type {\n        vertical-align: middle;\n    }\n\n    .dataframe tbody tr th {\n        vertical-align: top;\n    }\n\n    .dataframe thead th {\n        text-align: right;\n    }\n</style>\n<table border=\"1\" class=\"dataframe\">\n  <thead>\n    <tr style=\"text-align: right;\">\n      <th></th>\n      <th>GRANDE_REG</th>\n      <th>COD_UF</th>\n      <th>SIGLA_UF</th>\n      <th>COD</th>\n      <th>NOME</th>\n      <th>TIPO</th>\n      <th>COD_CAT_ASSOC</th>\n      <th>CAT_ASSOC</th>\n      <th>COD_MUN</th>\n      <th>NOME_MUN</th>\n      <th>LEG</th>\n      <th>DATA</th>\n    </tr>\n  </thead>\n  <tbody>\n    <tr>\n      <th>0</th>\n      <td>Centro-Oeste</td>\n      <td>53.0</td>\n      <td>DF</td>\n      <td>5301.0</td>\n      <td>Região Integrada de Desenvolvimento do Distrit...</td>\n      <td>RIDE</td>\n      <td>530101.0</td>\n      <td>NÃO TEM</td>\n      <td>5300108.0</td>\n      <td>BRASÍLIA</td>\n      <td>DECRETO Nº 7469 - 04.05.2011 Regulamenta a Lei...</td>\n      <td>1998-02-19T00:00:00</td>\n    </tr>\n    <tr>\n      <th>1</th>\n      <td>Centro-Oeste</td>\n      <td>52.0</td>\n      <td>GO</td>\n      <td>5202.0</td>\n      <td>Região Integrada de Desenvolvimento do Distrit...</td>\n      <td>RIDE</td>\n      <td>520201.0</td>\n      <td>NÃO TEM</td>\n      <td>5200100.0</td>\n      <td>ABADIÂNIA</td>\n      <td>DECRETO Nº 7469 - 04.05.2011 Regulamenta a Lei...</td>\n      <td>1998-02-19T00:00:00</td>\n    </tr>\n    <tr>\n      <th>2</th>\n      <td>Centro-Oeste</td>\n      <td>52.0</td>\n      <td>GO</td>\n      <td>5202.0</td>\n      <td>Região Integrada de Desenvolvimento do Distrit...</td>\n      <td>RIDE</td>\n      <td>520201.0</td>\n      <td>NÃO TEM</td>\n      <td>5200175.0</td>\n      <td>ÁGUA FRIA DE GOIÁS</td>\n      <td>DECRETO Nº 7469 - 04.05.2011 Regulamenta a Lei...</td>\n      <td>1998-02-19T00:00:00</td>\n    </tr>\n    <tr>\n      <th>3</th>\n      <td>Centro-Oeste</td>\n      <td>52.0</td>\n      <td>GO</td>\n      <td>5202.0</td>\n      <td>Região Integrada de Desenvolvimento do Distrit...</td>\n      <td>RIDE</td>\n      <td>520201.0</td>\n      <td>NÃO TEM</td>\n      <td>5200258.0</td>\n      <td>ÁGUAS LINDAS DE GOIÁS</td>\n      <td>DECRETO Nº 7469 - 04.05.2011 Regulamenta a Lei...</td>\n      <td>1998-02-19T00:00:00</td>\n    </tr>\n    <tr>\n      <th>4</th>\n      <td>Centro-Oeste</td>\n      <td>52.0</td>\n      <td>GO</td>\n      <td>5202.0</td>\n      <td>Região Integrada de Desenvolvimento do Distrit...</td>\n      <td>RIDE</td>\n      <td>520201.0</td>\n      <td>NÃO TEM</td>\n      <td>5200308.0</td>\n      <td>ALEXÂNIA</td>\n      <td>DECRETO Nº 7469 - 04.05.2011 Regulamenta a Lei...</td>\n      <td>1998-02-19T00:00:00</td>\n    </tr>\n    <tr>\n      <th>...</th>\n      <td>...</td>\n      <td>...</td>\n      <td>...</td>\n      <td>...</td>\n      <td>...</td>\n      <td>...</td>\n      <td>...</td>\n      <td>...</td>\n      <td>...</td>\n      <td>...</td>\n      <td>...</td>\n      <td>...</td>\n    </tr>\n    <tr>\n      <th>1415</th>\n      <td>Sul</td>\n      <td>42.0</td>\n      <td>SC</td>\n      <td>4202.0</td>\n      <td>Região Metropolitana do Vale do Itajaí</td>\n      <td>RM</td>\n      <td>420201.0</td>\n      <td>Núcleo Metropolitano</td>\n      <td>4202404.0</td>\n      <td>BLUMENAU</td>\n      <td>Lei Complementar 162</td>\n      <td>1998-01-06T00:00:00</td>\n    </tr>\n    <tr>\n      <th>1416</th>\n      <td>Sul</td>\n      <td>42.0</td>\n      <td>SC</td>\n      <td>4202.0</td>\n      <td>Região Metropolitana do Vale do Itajaí</td>\n      <td>RM</td>\n      <td>420201.0</td>\n      <td>Núcleo Metropolitano</td>\n      <td>4205902.0</td>\n      <td>GASPAR</td>\n      <td>Lei Complementar 162</td>\n      <td>1998-01-06T00:00:00</td>\n    </tr>\n    <tr>\n      <th>1417</th>\n      <td>Sul</td>\n      <td>42.0</td>\n      <td>SC</td>\n      <td>4202.0</td>\n      <td>Região Metropolitana do Vale do Itajaí</td>\n      <td>RM</td>\n      <td>420201.0</td>\n      <td>Núcleo Metropolitano</td>\n      <td>4207502.0</td>\n      <td>INDAIAL</td>\n      <td>Lei Complementar 162</td>\n      <td>1998-01-06T00:00:00</td>\n    </tr>\n    <tr>\n      <th>1418</th>\n      <td>Sul</td>\n      <td>42.0</td>\n      <td>SC</td>\n      <td>4202.0</td>\n      <td>Região Metropolitana do Vale do Itajaí</td>\n      <td>RM</td>\n      <td>420201.0</td>\n      <td>Núcleo Metropolitano</td>\n      <td>4213203.0</td>\n      <td>POMERODE</td>\n      <td>Lei Complementar 162</td>\n      <td>1998-01-06T00:00:00</td>\n    </tr>\n    <tr>\n      <th>1419</th>\n      <td>Sul</td>\n      <td>42.0</td>\n      <td>SC</td>\n      <td>4202.0</td>\n      <td>Região Metropolitana do Vale do Itajaí</td>\n      <td>RM</td>\n      <td>420201.0</td>\n      <td>Núcleo Metropolitano</td>\n      <td>4218202.0</td>\n      <td>TIMBÓ</td>\n      <td>Lei Complementar 162</td>\n      <td>1998-01-06T00:00:00</td>\n    </tr>\n  </tbody>\n</table>\n<p>1420 rows × 12 columns</p>\n</div>"
     },
     "execution_count": 155,
     "metadata": {},
     "output_type": "execute_result"
    }
   ],
   "source": [
    "import pandas as pd\n",
    "from pandas_ods_reader import read_ods\n",
    "\n",
    "df = read_ods('data/Composicao_RMs_RIDEs_AglomUrbanas_2020_06_30.ods')\n",
    "df"
   ]
  },
  {
   "cell_type": "markdown",
   "id": "4935e27cfdc36dae",
   "metadata": {
    "collapsed": false
   },
   "source": [
    "### Remover os registros com atributos nulos, caso haja "
   ]
  },
  {
   "cell_type": "code",
   "execution_count": 156,
   "id": "946826b745b04faf",
   "metadata": {
    "collapsed": false,
    "ExecuteTime": {
     "end_time": "2023-12-01T18:55:57.623198Z",
     "start_time": "2023-12-01T18:55:57.618575Z"
    }
   },
   "outputs": [
    {
     "data": {
      "text/plain": "GRANDE_REG       0\nCOD_UF           0\nSIGLA_UF         0\nCOD              0\nNOME             0\nTIPO             0\nCOD_CAT_ASSOC    0\nCAT_ASSOC        0\nCOD_MUN          0\nNOME_MUN         0\nLEG              0\nDATA             0\ndtype: int64"
     },
     "execution_count": 156,
     "metadata": {},
     "output_type": "execute_result"
    }
   ],
   "source": [
    "df.isnull().sum()"
   ]
  },
  {
   "cell_type": "markdown",
   "id": "ce53ac80d6a0d716",
   "metadata": {
    "collapsed": false
   },
   "source": [
    "### Excluir as colunas: SIGLA_UF, NOME, NOME_MUN, LEG "
   ]
  },
  {
   "cell_type": "code",
   "execution_count": 157,
   "id": "5f2ab819f934af58",
   "metadata": {
    "collapsed": false,
    "ExecuteTime": {
     "end_time": "2023-12-01T18:55:57.633284Z",
     "start_time": "2023-12-01T18:55:57.626757Z"
    }
   },
   "outputs": [
    {
     "data": {
      "text/plain": "     GRANDE_REG  COD_UF     COD  \\\n0  Centro-Oeste    53.0  5301.0   \n1  Centro-Oeste    52.0  5202.0   \n2  Centro-Oeste    52.0  5202.0   \n3  Centro-Oeste    52.0  5202.0   \n4  Centro-Oeste    52.0  5202.0   \n\n                                                NOME  TIPO COD_CAT_ASSOC  \\\n0  Região Integrada de Desenvolvimento do Distrit...  RIDE      530101.0   \n1  Região Integrada de Desenvolvimento do Distrit...  RIDE      520201.0   \n2  Região Integrada de Desenvolvimento do Distrit...  RIDE      520201.0   \n3  Região Integrada de Desenvolvimento do Distrit...  RIDE      520201.0   \n4  Região Integrada de Desenvolvimento do Distrit...  RIDE      520201.0   \n\n  CAT_ASSOC    COD_MUN                 DATA  \n0   NÃO TEM  5300108.0  1998-02-19T00:00:00  \n1   NÃO TEM  5200100.0  1998-02-19T00:00:00  \n2   NÃO TEM  5200175.0  1998-02-19T00:00:00  \n3   NÃO TEM  5200258.0  1998-02-19T00:00:00  \n4   NÃO TEM  5200308.0  1998-02-19T00:00:00  ",
      "text/html": "<div>\n<style scoped>\n    .dataframe tbody tr th:only-of-type {\n        vertical-align: middle;\n    }\n\n    .dataframe tbody tr th {\n        vertical-align: top;\n    }\n\n    .dataframe thead th {\n        text-align: right;\n    }\n</style>\n<table border=\"1\" class=\"dataframe\">\n  <thead>\n    <tr style=\"text-align: right;\">\n      <th></th>\n      <th>GRANDE_REG</th>\n      <th>COD_UF</th>\n      <th>COD</th>\n      <th>NOME</th>\n      <th>TIPO</th>\n      <th>COD_CAT_ASSOC</th>\n      <th>CAT_ASSOC</th>\n      <th>COD_MUN</th>\n      <th>DATA</th>\n    </tr>\n  </thead>\n  <tbody>\n    <tr>\n      <th>0</th>\n      <td>Centro-Oeste</td>\n      <td>53.0</td>\n      <td>5301.0</td>\n      <td>Região Integrada de Desenvolvimento do Distrit...</td>\n      <td>RIDE</td>\n      <td>530101.0</td>\n      <td>NÃO TEM</td>\n      <td>5300108.0</td>\n      <td>1998-02-19T00:00:00</td>\n    </tr>\n    <tr>\n      <th>1</th>\n      <td>Centro-Oeste</td>\n      <td>52.0</td>\n      <td>5202.0</td>\n      <td>Região Integrada de Desenvolvimento do Distrit...</td>\n      <td>RIDE</td>\n      <td>520201.0</td>\n      <td>NÃO TEM</td>\n      <td>5200100.0</td>\n      <td>1998-02-19T00:00:00</td>\n    </tr>\n    <tr>\n      <th>2</th>\n      <td>Centro-Oeste</td>\n      <td>52.0</td>\n      <td>5202.0</td>\n      <td>Região Integrada de Desenvolvimento do Distrit...</td>\n      <td>RIDE</td>\n      <td>520201.0</td>\n      <td>NÃO TEM</td>\n      <td>5200175.0</td>\n      <td>1998-02-19T00:00:00</td>\n    </tr>\n    <tr>\n      <th>3</th>\n      <td>Centro-Oeste</td>\n      <td>52.0</td>\n      <td>5202.0</td>\n      <td>Região Integrada de Desenvolvimento do Distrit...</td>\n      <td>RIDE</td>\n      <td>520201.0</td>\n      <td>NÃO TEM</td>\n      <td>5200258.0</td>\n      <td>1998-02-19T00:00:00</td>\n    </tr>\n    <tr>\n      <th>4</th>\n      <td>Centro-Oeste</td>\n      <td>52.0</td>\n      <td>5202.0</td>\n      <td>Região Integrada de Desenvolvimento do Distrit...</td>\n      <td>RIDE</td>\n      <td>520201.0</td>\n      <td>NÃO TEM</td>\n      <td>5200308.0</td>\n      <td>1998-02-19T00:00:00</td>\n    </tr>\n  </tbody>\n</table>\n</div>"
     },
     "execution_count": 157,
     "metadata": {},
     "output_type": "execute_result"
    }
   ],
   "source": [
    "df.drop(columns=['SIGLA_UF', 'NOME_MUN', 'LEG'], axis=1, inplace=True)\n",
    "df.head()"
   ]
  },
  {
   "cell_type": "markdown",
   "id": "f76b76a8a76d5726",
   "metadata": {
    "collapsed": false
   },
   "source": [
    "### Discretizar os valores do campo: GRANDE_REG"
   ]
  },
  {
   "cell_type": "code",
   "execution_count": 158,
   "id": "8b7ce418a0a822ff",
   "metadata": {
    "collapsed": false,
    "ExecuteTime": {
     "end_time": "2023-12-01T18:55:57.641071Z",
     "start_time": "2023-12-01T18:55:57.632221Z"
    }
   },
   "outputs": [
    {
     "data": {
      "text/plain": "array(['Centro-Oeste', 'Nordeste', 'Norte', 'Sudeste', 'Sul'],\n      dtype=object)"
     },
     "execution_count": 158,
     "metadata": {},
     "output_type": "execute_result"
    }
   ],
   "source": [
    "col_to_encode = 'GRANDE_REG'\n",
    "df[col_to_encode].unique()"
   ]
  },
  {
   "cell_type": "code",
   "execution_count": 159,
   "id": "f8ed78e2171705bb",
   "metadata": {
    "collapsed": false,
    "ExecuteTime": {
     "end_time": "2023-12-01T18:55:57.697196Z",
     "start_time": "2023-12-01T18:55:57.638716Z"
    }
   },
   "outputs": [
    {
     "data": {
      "text/plain": "array([0, 1, 2, 3, 4])"
     },
     "execution_count": 159,
     "metadata": {},
     "output_type": "execute_result"
    }
   ],
   "source": [
    "from sklearn.preprocessing import LabelEncoder\n",
    "\n",
    "le = LabelEncoder()\n",
    "df[col_to_encode] = le.fit_transform(df[col_to_encode])\n",
    "df[col_to_encode].unique()"
   ]
  },
  {
   "cell_type": "markdown",
   "id": "baf4b5c5237eba90",
   "metadata": {
    "collapsed": false
   },
   "source": [
    "### Exibir o novo arquivo após modificações"
   ]
  },
  {
   "cell_type": "code",
   "execution_count": 160,
   "outputs": [
    {
     "data": {
      "text/plain": "      GRANDE_REG  COD_UF     COD  \\\n0              0    53.0  5301.0   \n1              0    52.0  5202.0   \n2              0    52.0  5202.0   \n3              0    52.0  5202.0   \n4              0    52.0  5202.0   \n...          ...     ...     ...   \n1415           4    42.0  4202.0   \n1416           4    42.0  4202.0   \n1417           4    42.0  4202.0   \n1418           4    42.0  4202.0   \n1419           4    42.0  4202.0   \n\n                                                   NOME  TIPO COD_CAT_ASSOC  \\\n0     Região Integrada de Desenvolvimento do Distrit...  RIDE      530101.0   \n1     Região Integrada de Desenvolvimento do Distrit...  RIDE      520201.0   \n2     Região Integrada de Desenvolvimento do Distrit...  RIDE      520201.0   \n3     Região Integrada de Desenvolvimento do Distrit...  RIDE      520201.0   \n4     Região Integrada de Desenvolvimento do Distrit...  RIDE      520201.0   \n...                                                 ...   ...           ...   \n1415             Região Metropolitana do Vale do Itajaí    RM      420201.0   \n1416             Região Metropolitana do Vale do Itajaí    RM      420201.0   \n1417             Região Metropolitana do Vale do Itajaí    RM      420201.0   \n1418             Região Metropolitana do Vale do Itajaí    RM      420201.0   \n1419             Região Metropolitana do Vale do Itajaí    RM      420201.0   \n\n                 CAT_ASSOC    COD_MUN                 DATA  \n0                  NÃO TEM  5300108.0  1998-02-19T00:00:00  \n1                  NÃO TEM  5200100.0  1998-02-19T00:00:00  \n2                  NÃO TEM  5200175.0  1998-02-19T00:00:00  \n3                  NÃO TEM  5200258.0  1998-02-19T00:00:00  \n4                  NÃO TEM  5200308.0  1998-02-19T00:00:00  \n...                    ...        ...                  ...  \n1415  Núcleo Metropolitano  4202404.0  1998-01-06T00:00:00  \n1416  Núcleo Metropolitano  4205902.0  1998-01-06T00:00:00  \n1417  Núcleo Metropolitano  4207502.0  1998-01-06T00:00:00  \n1418  Núcleo Metropolitano  4213203.0  1998-01-06T00:00:00  \n1419  Núcleo Metropolitano  4218202.0  1998-01-06T00:00:00  \n\n[1420 rows x 9 columns]",
      "text/html": "<div>\n<style scoped>\n    .dataframe tbody tr th:only-of-type {\n        vertical-align: middle;\n    }\n\n    .dataframe tbody tr th {\n        vertical-align: top;\n    }\n\n    .dataframe thead th {\n        text-align: right;\n    }\n</style>\n<table border=\"1\" class=\"dataframe\">\n  <thead>\n    <tr style=\"text-align: right;\">\n      <th></th>\n      <th>GRANDE_REG</th>\n      <th>COD_UF</th>\n      <th>COD</th>\n      <th>NOME</th>\n      <th>TIPO</th>\n      <th>COD_CAT_ASSOC</th>\n      <th>CAT_ASSOC</th>\n      <th>COD_MUN</th>\n      <th>DATA</th>\n    </tr>\n  </thead>\n  <tbody>\n    <tr>\n      <th>0</th>\n      <td>0</td>\n      <td>53.0</td>\n      <td>5301.0</td>\n      <td>Região Integrada de Desenvolvimento do Distrit...</td>\n      <td>RIDE</td>\n      <td>530101.0</td>\n      <td>NÃO TEM</td>\n      <td>5300108.0</td>\n      <td>1998-02-19T00:00:00</td>\n    </tr>\n    <tr>\n      <th>1</th>\n      <td>0</td>\n      <td>52.0</td>\n      <td>5202.0</td>\n      <td>Região Integrada de Desenvolvimento do Distrit...</td>\n      <td>RIDE</td>\n      <td>520201.0</td>\n      <td>NÃO TEM</td>\n      <td>5200100.0</td>\n      <td>1998-02-19T00:00:00</td>\n    </tr>\n    <tr>\n      <th>2</th>\n      <td>0</td>\n      <td>52.0</td>\n      <td>5202.0</td>\n      <td>Região Integrada de Desenvolvimento do Distrit...</td>\n      <td>RIDE</td>\n      <td>520201.0</td>\n      <td>NÃO TEM</td>\n      <td>5200175.0</td>\n      <td>1998-02-19T00:00:00</td>\n    </tr>\n    <tr>\n      <th>3</th>\n      <td>0</td>\n      <td>52.0</td>\n      <td>5202.0</td>\n      <td>Região Integrada de Desenvolvimento do Distrit...</td>\n      <td>RIDE</td>\n      <td>520201.0</td>\n      <td>NÃO TEM</td>\n      <td>5200258.0</td>\n      <td>1998-02-19T00:00:00</td>\n    </tr>\n    <tr>\n      <th>4</th>\n      <td>0</td>\n      <td>52.0</td>\n      <td>5202.0</td>\n      <td>Região Integrada de Desenvolvimento do Distrit...</td>\n      <td>RIDE</td>\n      <td>520201.0</td>\n      <td>NÃO TEM</td>\n      <td>5200308.0</td>\n      <td>1998-02-19T00:00:00</td>\n    </tr>\n    <tr>\n      <th>...</th>\n      <td>...</td>\n      <td>...</td>\n      <td>...</td>\n      <td>...</td>\n      <td>...</td>\n      <td>...</td>\n      <td>...</td>\n      <td>...</td>\n      <td>...</td>\n    </tr>\n    <tr>\n      <th>1415</th>\n      <td>4</td>\n      <td>42.0</td>\n      <td>4202.0</td>\n      <td>Região Metropolitana do Vale do Itajaí</td>\n      <td>RM</td>\n      <td>420201.0</td>\n      <td>Núcleo Metropolitano</td>\n      <td>4202404.0</td>\n      <td>1998-01-06T00:00:00</td>\n    </tr>\n    <tr>\n      <th>1416</th>\n      <td>4</td>\n      <td>42.0</td>\n      <td>4202.0</td>\n      <td>Região Metropolitana do Vale do Itajaí</td>\n      <td>RM</td>\n      <td>420201.0</td>\n      <td>Núcleo Metropolitano</td>\n      <td>4205902.0</td>\n      <td>1998-01-06T00:00:00</td>\n    </tr>\n    <tr>\n      <th>1417</th>\n      <td>4</td>\n      <td>42.0</td>\n      <td>4202.0</td>\n      <td>Região Metropolitana do Vale do Itajaí</td>\n      <td>RM</td>\n      <td>420201.0</td>\n      <td>Núcleo Metropolitano</td>\n      <td>4207502.0</td>\n      <td>1998-01-06T00:00:00</td>\n    </tr>\n    <tr>\n      <th>1418</th>\n      <td>4</td>\n      <td>42.0</td>\n      <td>4202.0</td>\n      <td>Região Metropolitana do Vale do Itajaí</td>\n      <td>RM</td>\n      <td>420201.0</td>\n      <td>Núcleo Metropolitano</td>\n      <td>4213203.0</td>\n      <td>1998-01-06T00:00:00</td>\n    </tr>\n    <tr>\n      <th>1419</th>\n      <td>4</td>\n      <td>42.0</td>\n      <td>4202.0</td>\n      <td>Região Metropolitana do Vale do Itajaí</td>\n      <td>RM</td>\n      <td>420201.0</td>\n      <td>Núcleo Metropolitano</td>\n      <td>4218202.0</td>\n      <td>1998-01-06T00:00:00</td>\n    </tr>\n  </tbody>\n</table>\n<p>1420 rows × 9 columns</p>\n</div>"
     },
     "metadata": {},
     "output_type": "display_data"
    }
   ],
   "source": [
    "display(df)"
   ],
   "metadata": {
    "collapsed": false,
    "ExecuteTime": {
     "end_time": "2023-12-01T18:55:57.729981Z",
     "start_time": "2023-12-01T18:55:57.647115Z"
    }
   },
   "id": "2afa97c8007bd10"
  }
 ],
 "metadata": {
  "kernelspec": {
   "display_name": "Python 3 (ipykernel)",
   "language": "python",
   "name": "python3"
  },
  "language_info": {
   "codemirror_mode": {
    "name": "ipython",
    "version": 3
   },
   "file_extension": ".py",
   "mimetype": "text/x-python",
   "name": "python",
   "nbconvert_exporter": "python",
   "pygments_lexer": "ipython3",
   "version": "3.9.18"
  }
 },
 "nbformat": 4,
 "nbformat_minor": 5
}
